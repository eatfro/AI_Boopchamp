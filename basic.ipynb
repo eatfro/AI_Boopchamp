{
 "cells": [
  {
   "cell_type": "code",
   "execution_count": 3,
   "id": "00404834",
   "metadata": {},
   "outputs": [],
   "source": [
    "x = 5\n"
   ]
  },
  {
   "cell_type": "code",
   "execution_count": 4,
   "id": "6b43dd5d",
   "metadata": {},
   "outputs": [],
   "source": [
    "y = 8"
   ]
  },
  {
   "cell_type": "code",
   "execution_count": 5,
   "id": "d140c1f8",
   "metadata": {},
   "outputs": [
    {
     "name": "stdout",
     "output_type": "stream",
     "text": [
      "8\n",
      "5\n"
     ]
    }
   ],
   "source": [
    "print(y)\n",
    "print(x)"
   ]
  },
  {
   "cell_type": "code",
   "execution_count": 8,
   "id": "7043e641",
   "metadata": {},
   "outputs": [],
   "source": [
    "b,z= (1,2)"
   ]
  },
  {
   "cell_type": "code",
   "execution_count": 7,
   "id": "95de03d8",
   "metadata": {},
   "outputs": [
    {
     "data": {
      "text/plain": [
       "1"
      ]
     },
     "execution_count": 7,
     "metadata": {},
     "output_type": "execute_result"
    }
   ],
   "source": [
    "b"
   ]
  },
  {
   "cell_type": "code",
   "execution_count": 9,
   "id": "a252dc87",
   "metadata": {},
   "outputs": [
    {
     "data": {
      "text/plain": [
       "2"
      ]
     },
     "execution_count": 9,
     "metadata": {},
     "output_type": "execute_result"
    }
   ],
   "source": [
    "z"
   ]
  },
  {
   "cell_type": "code",
   "execution_count": 10,
   "id": "2ed4a00e",
   "metadata": {},
   "outputs": [],
   "source": [
    "a ,b, c, d = (10 , 20 , 30, 40)"
   ]
  },
  {
   "cell_type": "code",
   "execution_count": 11,
   "id": "ce13a22d",
   "metadata": {},
   "outputs": [
    {
     "name": "stdout",
     "output_type": "stream",
     "text": [
      "20\n",
      "40\n"
     ]
    }
   ],
   "source": [
    "print(b)\n",
    "print(d)"
   ]
  },
  {
   "cell_type": "code",
   "execution_count": 12,
   "id": "744a1468",
   "metadata": {},
   "outputs": [],
   "source": [
    "x1 = 5"
   ]
  },
  {
   "cell_type": "code",
   "execution_count": 13,
   "id": "e73c8f14",
   "metadata": {},
   "outputs": [
    {
     "data": {
      "text/plain": [
       "int"
      ]
     },
     "execution_count": 13,
     "metadata": {},
     "output_type": "execute_result"
    }
   ],
   "source": [
    "type(x1)"
   ]
  },
  {
   "cell_type": "code",
   "execution_count": 14,
   "id": "1f39eefb",
   "metadata": {},
   "outputs": [],
   "source": [
    "x2 = 4.75"
   ]
  },
  {
   "cell_type": "code",
   "execution_count": 15,
   "id": "46cb4804",
   "metadata": {},
   "outputs": [
    {
     "data": {
      "text/plain": [
       "float"
      ]
     },
     "execution_count": 15,
     "metadata": {},
     "output_type": "execute_result"
    }
   ],
   "source": [
    "type(x2)"
   ]
  },
  {
   "cell_type": "code",
   "execution_count": 16,
   "id": "81e33de1",
   "metadata": {},
   "outputs": [
    {
     "data": {
      "text/plain": [
       "4"
      ]
     },
     "execution_count": 16,
     "metadata": {},
     "output_type": "execute_result"
    }
   ],
   "source": [
    "int(x2)"
   ]
  },
  {
   "cell_type": "code",
   "execution_count": 17,
   "id": "3163332f",
   "metadata": {},
   "outputs": [
    {
     "data": {
      "text/plain": [
       "5.0"
      ]
     },
     "execution_count": 17,
     "metadata": {},
     "output_type": "execute_result"
    }
   ],
   "source": [
    "float(5)"
   ]
  },
  {
   "cell_type": "code",
   "execution_count": 18,
   "id": "922e2384",
   "metadata": {},
   "outputs": [],
   "source": [
    "x3 = True"
   ]
  },
  {
   "cell_type": "code",
   "execution_count": 19,
   "id": "f7995cf4",
   "metadata": {},
   "outputs": [
    {
     "data": {
      "text/plain": [
       "bool"
      ]
     },
     "execution_count": 19,
     "metadata": {},
     "output_type": "execute_result"
    }
   ],
   "source": [
    "type(x3)"
   ]
  },
  {
   "cell_type": "code",
   "execution_count": 20,
   "id": "951d3963",
   "metadata": {},
   "outputs": [],
   "source": [
    "a = True"
   ]
  },
  {
   "cell_type": "code",
   "execution_count": 21,
   "id": "fc2d4445",
   "metadata": {},
   "outputs": [
    {
     "data": {
      "text/plain": [
       "bool"
      ]
     },
     "execution_count": 21,
     "metadata": {},
     "output_type": "execute_result"
    }
   ],
   "source": [
    "type(a)"
   ]
  },
  {
   "cell_type": "code",
   "execution_count": 22,
   "id": "ddd181bd",
   "metadata": {},
   "outputs": [],
   "source": [
    "b = 99"
   ]
  },
  {
   "cell_type": "code",
   "execution_count": 23,
   "id": "d0285b9e",
   "metadata": {},
   "outputs": [
    {
     "data": {
      "text/plain": [
       "int"
      ]
     },
     "execution_count": 23,
     "metadata": {},
     "output_type": "execute_result"
    }
   ],
   "source": [
    "type(b)"
   ]
  },
  {
   "cell_type": "code",
   "execution_count": 24,
   "id": "290b00a6",
   "metadata": {},
   "outputs": [
    {
     "data": {
      "text/plain": [
       "float"
      ]
     },
     "execution_count": 24,
     "metadata": {},
     "output_type": "execute_result"
    }
   ],
   "source": [
    "type(0.99)"
   ]
  },
  {
   "cell_type": "code",
   "execution_count": 25,
   "id": "3892c840",
   "metadata": {},
   "outputs": [
    {
     "name": "stdout",
     "output_type": "stream",
     "text": [
      "99.0\n"
     ]
    }
   ],
   "source": [
    "print(float(b))"
   ]
  },
  {
   "cell_type": "code",
   "execution_count": 26,
   "id": "37004e12",
   "metadata": {},
   "outputs": [
    {
     "data": {
      "text/plain": [
       "0.99"
      ]
     },
     "execution_count": 26,
     "metadata": {},
     "output_type": "execute_result"
    }
   ],
   "source": [
    "0.99"
   ]
  },
  {
   "cell_type": "code",
   "execution_count": 28,
   "id": "66bb7465",
   "metadata": {},
   "outputs": [],
   "source": [
    "x4 = \"willie\""
   ]
  },
  {
   "cell_type": "code",
   "execution_count": 27,
   "id": "fd9d2e78",
   "metadata": {},
   "outputs": [
    {
     "data": {
      "text/plain": [
       "0"
      ]
     },
     "execution_count": 27,
     "metadata": {},
     "output_type": "execute_result"
    }
   ],
   "source": [
    "int(0.99)"
   ]
  },
  {
   "cell_type": "code",
   "execution_count": 29,
   "id": "125b35d1",
   "metadata": {},
   "outputs": [
    {
     "name": "stdout",
     "output_type": "stream",
     "text": [
      "willie\n"
     ]
    }
   ],
   "source": [
    "print(x4)"
   ]
  },
  {
   "cell_type": "code",
   "execution_count": 30,
   "id": "423e966a",
   "metadata": {},
   "outputs": [],
   "source": [
    "m = 100"
   ]
  },
  {
   "cell_type": "code",
   "execution_count": 31,
   "id": "e557bfc0",
   "metadata": {},
   "outputs": [
    {
     "name": "stdout",
     "output_type": "stream",
     "text": [
      "100 days\n"
     ]
    }
   ],
   "source": [
    "print(m, \"days\")"
   ]
  },
  {
   "cell_type": "code",
   "execution_count": 32,
   "id": "58634c5d",
   "metadata": {},
   "outputs": [
    {
     "name": "stdout",
     "output_type": "stream",
     "text": [
      "100 days\n"
     ]
    }
   ],
   "source": [
    "print(str(m), 'days')"
   ]
  },
  {
   "cell_type": "code",
   "execution_count": 36,
   "id": "ddc5f089",
   "metadata": {},
   "outputs": [],
   "source": [
    "slang = \"It's cool,\""
   ]
  },
  {
   "cell_type": "code",
   "execution_count": 34,
   "id": "06be95ae",
   "metadata": {},
   "outputs": [],
   "source": [
    "question = \" isn't it?\""
   ]
  },
  {
   "cell_type": "code",
   "execution_count": 37,
   "id": "b2b6a24f",
   "metadata": {},
   "outputs": [
    {
     "name": "stdout",
     "output_type": "stream",
     "text": [
      "It's cool,  isn't it?\n"
     ]
    }
   ],
   "source": [
    "print(slang , question)"
   ]
  },
  {
   "cell_type": "code",
   "execution_count": 38,
   "id": "98d989b0",
   "metadata": {},
   "outputs": [
    {
     "data": {
      "text/plain": [
       "\"It's cool, isn't it \""
      ]
     },
     "execution_count": 38,
     "metadata": {},
     "output_type": "execute_result"
    }
   ],
   "source": [
    "\"It's cool, isn't it \""
   ]
  },
  {
   "cell_type": "code",
   "execution_count": 45,
   "id": "0fee5743",
   "metadata": {},
   "outputs": [
    {
     "name": "stdout",
     "output_type": "stream",
     "text": [
      "It's cool, isn't it?\n"
     ]
    }
   ],
   "source": [
    "print(\"It\\'s cool, isn't it?\")"
   ]
  },
  {
   "cell_type": "code",
   "execution_count": 47,
   "id": "bc25e7c4",
   "metadata": {},
   "outputs": [
    {
     "data": {
      "text/plain": [
       "\"Don't be shy\""
      ]
     },
     "execution_count": 47,
     "metadata": {},
     "output_type": "execute_result"
    }
   ],
   "source": [
    "\"Don\\'t be shy\""
   ]
  },
  {
   "cell_type": "code",
   "execution_count": 51,
   "id": "0901af8e",
   "metadata": {},
   "outputs": [
    {
     "name": "stdout",
     "output_type": "stream",
     "text": [
      "Click \"OK\"\n"
     ]
    }
   ],
   "source": [
    "print('Click \\\"OK\"')"
   ]
  },
  {
   "cell_type": "code",
   "execution_count": 53,
   "id": "f2618880",
   "metadata": {},
   "outputs": [
    {
     "name": "stdout",
     "output_type": "stream",
     "text": [
      "Big Houses\n"
     ]
    }
   ],
   "source": [
    "print(\"Big\" ,\"Houses\")"
   ]
  },
  {
   "cell_type": "code",
   "execution_count": 54,
   "id": "459c8882",
   "metadata": {},
   "outputs": [
    {
     "data": {
      "text/plain": [
       "38"
      ]
     },
     "execution_count": 54,
     "metadata": {},
     "output_type": "execute_result"
    }
   ],
   "source": [
    "15 + 23 "
   ]
  },
  {
   "cell_type": "code",
   "execution_count": 55,
   "id": "44b1f593",
   "metadata": {},
   "outputs": [
    {
     "data": {
      "text/plain": [
       "24"
      ]
     },
     "execution_count": 55,
     "metadata": {},
     "output_type": "execute_result"
    }
   ],
   "source": [
    "50 - 26"
   ]
  },
  {
   "cell_type": "code",
   "execution_count": 56,
   "id": "d18f8500",
   "metadata": {},
   "outputs": [],
   "source": [
    "k = 50"
   ]
  },
  {
   "cell_type": "code",
   "execution_count": 57,
   "id": "fb563524",
   "metadata": {},
   "outputs": [
    {
     "data": {
      "text/plain": [
       "24"
      ]
     },
     "execution_count": 57,
     "metadata": {},
     "output_type": "execute_result"
    }
   ],
   "source": [
    "k - 26"
   ]
  },
  {
   "cell_type": "code",
   "execution_count": 58,
   "id": "8f7435ca",
   "metadata": {},
   "outputs": [
    {
     "data": {
      "text/plain": [
       "5.0"
      ]
     },
     "execution_count": 58,
     "metadata": {},
     "output_type": "execute_result"
    }
   ],
   "source": [
    "20 / 4"
   ]
  },
  {
   "cell_type": "code",
   "execution_count": 61,
   "id": "1cc3d83e",
   "metadata": {},
   "outputs": [
    {
     "data": {
      "text/plain": [
       "2"
      ]
     },
     "execution_count": 61,
     "metadata": {},
     "output_type": "execute_result"
    }
   ],
   "source": [
    "22 % 4"
   ]
  },
  {
   "cell_type": "code",
   "execution_count": 62,
   "id": "ec499fc2",
   "metadata": {},
   "outputs": [
    {
     "data": {
      "text/plain": [
       "5.5"
      ]
     },
     "execution_count": 62,
     "metadata": {},
     "output_type": "execute_result"
    }
   ],
   "source": [
    "22.0 /4"
   ]
  },
  {
   "cell_type": "code",
   "execution_count": 63,
   "id": "6a345a92",
   "metadata": {},
   "outputs": [
    {
     "data": {
      "text/plain": [
       "48"
      ]
     },
     "execution_count": 63,
     "metadata": {},
     "output_type": "execute_result"
    }
   ],
   "source": [
    "6 * 8"
   ]
  },
  {
   "cell_type": "code",
   "execution_count": 64,
   "id": "3588136b",
   "metadata": {},
   "outputs": [
    {
     "data": {
      "text/plain": [
       "225"
      ]
     },
     "execution_count": 64,
     "metadata": {},
     "output_type": "execute_result"
    }
   ],
   "source": [
    "15 ** 2"
   ]
  },
  {
   "cell_type": "code",
   "execution_count": 65,
   "id": "a4c1b633",
   "metadata": {},
   "outputs": [
    {
     "data": {
      "text/plain": [
       "36"
      ]
     },
     "execution_count": 65,
     "metadata": {},
     "output_type": "execute_result"
    }
   ],
   "source": [
    "6 * 6"
   ]
  },
  {
   "cell_type": "code",
   "execution_count": 66,
   "id": "b7663a5c",
   "metadata": {},
   "outputs": [
    {
     "data": {
      "text/plain": [
       "False"
      ]
     },
     "execution_count": 66,
     "metadata": {},
     "output_type": "execute_result"
    }
   ],
   "source": [
    "100 == 98"
   ]
  },
  {
   "cell_type": "code",
   "execution_count": 67,
   "id": "c43feba5",
   "metadata": {},
   "outputs": [
    {
     "data": {
      "text/plain": [
       "True"
      ]
     },
     "execution_count": 67,
     "metadata": {},
     "output_type": "execute_result"
    }
   ],
   "source": [
    "100 == 100"
   ]
  },
  {
   "cell_type": "code",
   "execution_count": 68,
   "id": "d84066ff",
   "metadata": {},
   "outputs": [],
   "source": [
    "p = 14"
   ]
  },
  {
   "cell_type": "code",
   "execution_count": 69,
   "id": "7f3da863",
   "metadata": {},
   "outputs": [
    {
     "data": {
      "text/plain": [
       "24"
      ]
     },
     "execution_count": 69,
     "metadata": {},
     "output_type": "execute_result"
    }
   ],
   "source": [
    "p + 10"
   ]
  },
  {
   "cell_type": "code",
   "execution_count": 70,
   "id": "a303c32d",
   "metadata": {},
   "outputs": [],
   "source": [
    "q = 30"
   ]
  },
  {
   "cell_type": "code",
   "execution_count": 71,
   "id": "e0a7ded0",
   "metadata": {},
   "outputs": [],
   "source": [
    "q = 20"
   ]
  },
  {
   "cell_type": "code",
   "execution_count": 72,
   "id": "df69c6f8",
   "metadata": {},
   "outputs": [
    {
     "data": {
      "text/plain": [
       "30"
      ]
     },
     "execution_count": 72,
     "metadata": {},
     "output_type": "execute_result"
    }
   ],
   "source": [
    "q + 10"
   ]
  },
  {
   "cell_type": "code",
   "execution_count": null,
   "id": "58df2e7b",
   "metadata": {},
   "outputs": [
    {
     "name": "stdout",
     "output_type": "stream",
     "text": [
      "10\n",
      "old assign\n",
      "40\n",
      "new assign\n",
      "50\n"
     ]
    }
   ],
   "source": [
    "q = 10\n",
    "print(q)\n",
    "print(\"old assign\")\n",
    "q = 40\n",
    "print(q)\n",
    "print(\"new assign\")\n",
    " \n",
    "print (q + 10 )"
   ]
  },
  {
   "cell_type": "code",
   "execution_count": 77,
   "id": "c4e99bc1",
   "metadata": {},
   "outputs": [
    {
     "data": {
      "text/plain": [
       "'the fist is 40the second 50'"
      ]
     },
     "execution_count": 77,
     "metadata": {},
     "output_type": "execute_result"
    }
   ],
   "source": [
    "f\"the fist is {q}the second {q + 10}\""
   ]
  },
  {
   "cell_type": "code",
   "execution_count": 79,
   "id": "891640e4",
   "metadata": {},
   "outputs": [
    {
     "data": {
      "text/plain": [
       "'d'"
      ]
     },
     "execution_count": 79,
     "metadata": {},
     "output_type": "execute_result"
    }
   ],
   "source": [
    "\"Friday\"[3]"
   ]
  },
  {
   "cell_type": "code",
   "execution_count": 80,
   "id": "775c5da2",
   "metadata": {},
   "outputs": [
    {
     "name": "stdout",
     "output_type": "stream",
     "text": [
      "10\n"
     ]
    }
   ],
   "source": [
    "def ten(x):\n",
    "    x = 10\n",
    "    return x\n",
    "print(ten(3))"
   ]
  },
  {
   "cell_type": "code",
   "execution_count": 81,
   "id": "db9bc3f3",
   "metadata": {},
   "outputs": [
    {
     "data": {
      "text/plain": [
       "True"
      ]
     },
     "execution_count": 81,
     "metadata": {},
     "output_type": "execute_result"
    }
   ],
   "source": [
    "5 * 3 <= 5**3"
   ]
  },
  {
   "cell_type": "code",
   "execution_count": 85,
   "id": "e86cdb4d",
   "metadata": {},
   "outputs": [
    {
     "data": {
      "text/plain": [
       "False"
      ]
     },
     "execution_count": 85,
     "metadata": {},
     "output_type": "execute_result"
    }
   ],
   "source": [
    "100 == 10 ** 10"
   ]
  },
  {
   "cell_type": "code",
   "execution_count": 86,
   "id": "22dd66fe",
   "metadata": {},
   "outputs": [
    {
     "data": {
      "text/plain": [
       "False"
      ]
     },
     "execution_count": 86,
     "metadata": {},
     "output_type": "execute_result"
    }
   ],
   "source": [
    "True and not True"
   ]
  },
  {
   "cell_type": "code",
   "execution_count": 87,
   "id": "c0cb8592",
   "metadata": {},
   "outputs": [
    {
     "data": {
      "text/plain": [
       "False"
      ]
     },
     "execution_count": 87,
     "metadata": {},
     "output_type": "execute_result"
    }
   ],
   "source": [
    "False or not True and True"
   ]
  },
  {
   "cell_type": "code",
   "execution_count": 88,
   "id": "b278a65a",
   "metadata": {},
   "outputs": [
    {
     "data": {
      "text/plain": [
       "True"
      ]
     },
     "execution_count": 88,
     "metadata": {},
     "output_type": "execute_result"
    }
   ],
   "source": [
    "True and not True or True"
   ]
  },
  {
   "cell_type": "code",
   "execution_count": 89,
   "id": "adabd03e",
   "metadata": {},
   "outputs": [
    {
     "name": "stderr",
     "output_type": "stream",
     "text": [
      "<>:1: SyntaxWarning: \"is\" with a literal. Did you mean \"==\"?\n",
      "<>:1: SyntaxWarning: \"is\" with a literal. Did you mean \"==\"?\n",
      "/var/folders/4s/2k6f8yld43jdpvtdt363thnh0000gn/T/ipykernel_23425/2929037671.py:1: SyntaxWarning: \"is\" with a literal. Did you mean \"==\"?\n",
      "  5 is 6\n"
     ]
    },
    {
     "data": {
      "text/plain": [
       "False"
      ]
     },
     "execution_count": 89,
     "metadata": {},
     "output_type": "execute_result"
    }
   ],
   "source": [
    "5 is 6"
   ]
  },
  {
   "cell_type": "code",
   "execution_count": 90,
   "id": "6b8b6da4",
   "metadata": {},
   "outputs": [
    {
     "data": {
      "text/plain": [
       "True"
      ]
     },
     "execution_count": 90,
     "metadata": {},
     "output_type": "execute_result"
    }
   ],
   "source": [
    "True or False or False and True"
   ]
  },
  {
   "cell_type": "code",
   "execution_count": 91,
   "id": "dfe4a259",
   "metadata": {},
   "outputs": [
    {
     "name": "stdout",
     "output_type": "stream",
     "text": [
      "The condition has been satisfied\n"
     ]
    }
   ],
   "source": [
    "if 5 > 2 :\n",
    "    print(\"The condition has been satisfied\") "
   ]
  },
  {
   "cell_type": "code",
   "execution_count": 94,
   "id": "0662ae6f",
   "metadata": {},
   "outputs": [
    {
     "name": "stdout",
     "output_type": "stream",
     "text": [
      "Both condition are correct\n"
     ]
    }
   ],
   "source": [
    "#assign 10  to variable x\n",
    "x = 10\n",
    "#assign 25 to varibable y\n",
    "y = 25 \n",
    "\n",
    "if x > 3 and y > 13 :\n",
    "    print(\"Both condition are correct\")\n",
    "else :\n",
    "    x <= 3 or y <= 3 \n",
    "    print(\"At least one of the conditions is false\")      \n"
   ]
  },
  {
   "cell_type": "code",
   "execution_count": 95,
   "id": "7f5dd137",
   "metadata": {},
   "outputs": [
    {
     "name": "stdout",
     "output_type": "stream",
     "text": [
      "A busy day\n"
     ]
    }
   ],
   "source": [
    "g  = 500\n",
    "if g > 100 :\n",
    "    print(\"A busy day\")\n",
    "else:\n",
    "    print(\"A calm day\")     "
   ]
  },
  {
   "cell_type": "code",
   "execution_count": 104,
   "id": "affd66df",
   "metadata": {},
   "outputs": [
    {
     "name": "stdout",
     "output_type": "stream",
     "text": [
      "Small\n"
     ]
    }
   ],
   "source": [
    "o = 99\n",
    "\n",
    "if  o > 200 :\n",
    "    print(\"Big\")\n",
    "elif  o > 100  and o <= 200:\n",
    "    print(\"Average\")\n",
    "\n",
    "    \n",
    "else :  \n",
    "    print(\"Small\")     \n",
    "\n",
    "        "
   ]
  },
  {
   "cell_type": "code",
   "execution_count": 105,
   "id": "16b0be18",
   "metadata": {},
   "outputs": [],
   "source": [
    "def multiplication_by_2(s):\n",
    "    return s * 2"
   ]
  },
  {
   "cell_type": "code",
   "execution_count": 106,
   "id": "5967fdac",
   "metadata": {},
   "outputs": [
    {
     "data": {
      "text/plain": [
       "4"
      ]
     },
     "execution_count": 106,
     "metadata": {},
     "output_type": "execute_result"
    }
   ],
   "source": [
    "multiplication_by_2(2)"
   ]
  },
  {
   "cell_type": "code",
   "execution_count": 107,
   "id": "f02f8ddc",
   "metadata": {},
   "outputs": [
    {
     "data": {
      "text/plain": [
       "20"
      ]
     },
     "execution_count": 107,
     "metadata": {},
     "output_type": "execute_result"
    }
   ],
   "source": [
    "multiplication_by_2(10)"
   ]
  },
  {
   "cell_type": "code",
   "execution_count": 114,
   "id": "d2f7a288",
   "metadata": {},
   "outputs": [],
   "source": [
    "def exponentiation_exp_2(j):\n",
    "    print(f\"{j} Raised to the power of 2:\")\n",
    "    result = j ** 2\n",
    "    return result\n",
    " \n",
    "\n",
    "\n",
    "    \n"
   ]
  },
  {
   "cell_type": "code",
   "execution_count": 115,
   "id": "64a96b74",
   "metadata": {},
   "outputs": [
    {
     "name": "stdout",
     "output_type": "stream",
     "text": [
      "10 Raised to the power of 2:\n"
     ]
    },
    {
     "data": {
      "text/plain": [
       "100"
      ]
     },
     "execution_count": 115,
     "metadata": {},
     "output_type": "execute_result"
    }
   ],
   "source": [
    "exponentiation_exp_2(10)"
   ]
  },
  {
   "cell_type": "code",
   "execution_count": 116,
   "id": "42ccc5eb",
   "metadata": {},
   "outputs": [],
   "source": [
    "def plus_five(c):\n",
    "   result = c + 5\n",
    "   return result\n",
    "\n",
    "def m_by_3():\n",
    "   plus_five()*3\n",
    "   \n",
    "   \n",
    "\n"
   ]
  },
  {
   "cell_type": "code",
   "execution_count": null,
   "id": "06d35d62",
   "metadata": {},
   "outputs": [],
   "source": [
    "plus_five(5)"
   ]
  },
  {
   "cell_type": "code",
   "execution_count": 118,
   "id": "1ff23af0",
   "metadata": {},
   "outputs": [],
   "source": [
    "def add_10(m):\n",
    "    if m >= 100:\n",
    "        m = m + 10\n",
    "        return m \n",
    "    else:\n",
    "        return \"Save more\" "
   ]
  },
  {
   "cell_type": "code",
   "execution_count": 119,
   "id": "1f492fa0",
   "metadata": {},
   "outputs": [
    {
     "data": {
      "text/plain": [
       "120"
      ]
     },
     "execution_count": 119,
     "metadata": {},
     "output_type": "execute_result"
    }
   ],
   "source": [
    "add_10(110)"
   ]
  },
  {
   "cell_type": "code",
   "execution_count": 120,
   "id": "fbc216e5",
   "metadata": {},
   "outputs": [
    {
     "data": {
      "text/plain": [
       "'Save more'"
      ]
     },
     "execution_count": 120,
     "metadata": {},
     "output_type": "execute_result"
    }
   ],
   "source": [
    "add_10(50)"
   ]
  },
  {
   "cell_type": "code",
   "execution_count": 125,
   "id": "f9f6106a",
   "metadata": {},
   "outputs": [],
   "source": [
    "def compare_the_two(z,b):\n",
    "    if z > b :\n",
    "        print(\"Greater\")\n",
    "    elif z < b  :\n",
    "        print(\"Less\") \n",
    "    else:\n",
    "         \n",
    "        print(\"Equal\")       \n"
   ]
  },
  {
   "cell_type": "code",
   "execution_count": 126,
   "id": "2c093d8c",
   "metadata": {},
   "outputs": [
    {
     "name": "stdout",
     "output_type": "stream",
     "text": [
      "Greater\n"
     ]
    }
   ],
   "source": [
    "compare_the_two(10,2)"
   ]
  },
  {
   "cell_type": "code",
   "execution_count": 127,
   "id": "5072b7fe",
   "metadata": {},
   "outputs": [
    {
     "name": "stdout",
     "output_type": "stream",
     "text": [
      "Less\n"
     ]
    }
   ],
   "source": [
    "compare_the_two(2,10)"
   ]
  },
  {
   "cell_type": "code",
   "execution_count": 128,
   "id": "a8ec1c4a",
   "metadata": {},
   "outputs": [
    {
     "name": "stdout",
     "output_type": "stream",
     "text": [
      "Equal\n"
     ]
    }
   ],
   "source": [
    "compare_the_two(1,1)"
   ]
  },
  {
   "cell_type": "code",
   "execution_count": 1,
   "id": "ddcd393b",
   "metadata": {},
   "outputs": [],
   "source": [
    "list = [25, 65, 890, 15]"
   ]
  },
  {
   "cell_type": "code",
   "execution_count": 2,
   "id": "64ed1c74",
   "metadata": {},
   "outputs": [
    {
     "data": {
      "text/plain": [
       "890"
      ]
     },
     "execution_count": 2,
     "metadata": {},
     "output_type": "execute_result"
    }
   ],
   "source": [
    "max(list)"
   ]
  },
  {
   "cell_type": "code",
   "execution_count": 3,
   "id": "7c98ef9a",
   "metadata": {},
   "outputs": [
    {
     "data": {
      "text/plain": [
       "15"
      ]
     },
     "execution_count": 3,
     "metadata": {},
     "output_type": "execute_result"
    }
   ],
   "source": [
    "min(list)"
   ]
  },
  {
   "cell_type": "code",
   "execution_count": 4,
   "id": "648cbed7",
   "metadata": {},
   "outputs": [],
   "source": [
    "k = -100"
   ]
  },
  {
   "cell_type": "code",
   "execution_count": 5,
   "id": "dc4195da",
   "metadata": {},
   "outputs": [
    {
     "data": {
      "text/plain": [
       "100"
      ]
     },
     "execution_count": 5,
     "metadata": {},
     "output_type": "execute_result"
    }
   ],
   "source": [
    "abs(k)"
   ]
  },
  {
   "cell_type": "code",
   "execution_count": 8,
   "id": "9a49fb78",
   "metadata": {},
   "outputs": [],
   "source": [
    "u = 35.56789"
   ]
  },
  {
   "cell_type": "code",
   "execution_count": 9,
   "id": "1a63baf6",
   "metadata": {},
   "outputs": [
    {
     "data": {
      "text/plain": [
       "35.568"
      ]
     },
     "execution_count": 9,
     "metadata": {},
     "output_type": "execute_result"
    }
   ],
   "source": [
    "round(u, 3)"
   ]
  },
  {
   "cell_type": "code",
   "execution_count": 10,
   "id": "81c28118",
   "metadata": {},
   "outputs": [],
   "source": [
    "Numbers = [1, 5, 64, 24.5]"
   ]
  },
  {
   "cell_type": "code",
   "execution_count": 11,
   "id": "d89f394a",
   "metadata": {},
   "outputs": [
    {
     "data": {
      "text/plain": [
       "94.5"
      ]
     },
     "execution_count": 11,
     "metadata": {},
     "output_type": "execute_result"
    }
   ],
   "source": [
    "sum(Numbers)"
   ]
  },
  {
   "cell_type": "code",
   "execution_count": 12,
   "id": "8238b0ec",
   "metadata": {},
   "outputs": [],
   "source": [
    "q = 10"
   ]
  },
  {
   "cell_type": "code",
   "execution_count": 13,
   "id": "5f48d2e2",
   "metadata": {},
   "outputs": [
    {
     "data": {
      "text/plain": [
       "1000"
      ]
     },
     "execution_count": 13,
     "metadata": {},
     "output_type": "execute_result"
    }
   ],
   "source": [
    "pow(q, 3)"
   ]
  },
  {
   "cell_type": "code",
   "execution_count": 14,
   "id": "47aa6077",
   "metadata": {},
   "outputs": [
    {
     "data": {
      "text/plain": [
       "1000"
      ]
     },
     "execution_count": 14,
     "metadata": {},
     "output_type": "execute_result"
    }
   ],
   "source": [
    "10 ** 3"
   ]
  },
  {
   "cell_type": "code",
   "execution_count": 15,
   "id": "ff5315ce",
   "metadata": {},
   "outputs": [],
   "source": [
    "how_long = \"Elephant\""
   ]
  },
  {
   "cell_type": "code",
   "execution_count": 16,
   "id": "8b5e6bb6",
   "metadata": {},
   "outputs": [
    {
     "data": {
      "text/plain": [
       "8"
      ]
     },
     "execution_count": 16,
     "metadata": {},
     "output_type": "execute_result"
    }
   ],
   "source": [
    "len(how_long)"
   ]
  },
  {
   "cell_type": "code",
   "execution_count": 17,
   "id": "1e762783",
   "metadata": {},
   "outputs": [],
   "source": [
    "def distance_from_zero(x):\n",
    "    if type(x) == int: \n",
    "        return abs(x)\n",
    "    else:\n",
    "        print(\"Not possible\")\n"
   ]
  },
  {
   "cell_type": "code",
   "execution_count": 18,
   "id": "699d9ae1",
   "metadata": {},
   "outputs": [
    {
     "data": {
      "text/plain": [
       "10"
      ]
     },
     "execution_count": 18,
     "metadata": {},
     "output_type": "execute_result"
    }
   ],
   "source": [
    "distance_from_zero(-10)"
   ]
  },
  {
   "cell_type": "code",
   "execution_count": 19,
   "id": "030389c2",
   "metadata": {},
   "outputs": [
    {
     "name": "stdout",
     "output_type": "stream",
     "text": [
      "Not possible\n"
     ]
    }
   ],
   "source": [
    "distance_from_zero(\"cat\")"
   ]
  },
  {
   "cell_type": "code",
   "execution_count": 20,
   "id": "01140e22",
   "metadata": {},
   "outputs": [],
   "source": [
    "lot = [10 , 25 , 40 , 50 ]"
   ]
  },
  {
   "cell_type": "code",
   "execution_count": 21,
   "id": "35715928",
   "metadata": {},
   "outputs": [
    {
     "data": {
      "text/plain": [
       "40"
      ]
     },
     "execution_count": 21,
     "metadata": {},
     "output_type": "execute_result"
    }
   ],
   "source": [
    "lot[2]"
   ]
  },
  {
   "cell_type": "code",
   "execution_count": 24,
   "id": "e4cc1b09",
   "metadata": {},
   "outputs": [],
   "source": [
    "lot[0] = 15"
   ]
  },
  {
   "cell_type": "code",
   "execution_count": 25,
   "id": "df090db2",
   "metadata": {},
   "outputs": [
    {
     "name": "stdout",
     "output_type": "stream",
     "text": [
      "[15, 25, 40, 50]\n"
     ]
    }
   ],
   "source": [
    "print(lot) "
   ]
  },
  {
   "cell_type": "code",
   "execution_count": 26,
   "id": "2ea8a1f3",
   "metadata": {},
   "outputs": [],
   "source": [
    "del lot[2]"
   ]
  },
  {
   "cell_type": "code",
   "execution_count": 28,
   "id": "5f1acf7b",
   "metadata": {},
   "outputs": [],
   "source": [
    "lot = [10 , 25 , 40 , 50 ]"
   ]
  },
  {
   "cell_type": "code",
   "execution_count": 29,
   "id": "a4615ea5",
   "metadata": {},
   "outputs": [
    {
     "data": {
      "text/plain": [
       "[10, 25, 40, 50]"
      ]
     },
     "execution_count": 29,
     "metadata": {},
     "output_type": "execute_result"
    }
   ],
   "source": [
    "lot"
   ]
  },
  {
   "cell_type": "code",
   "execution_count": 30,
   "id": "95d080a7",
   "metadata": {},
   "outputs": [],
   "source": [
    "del lot[1]"
   ]
  },
  {
   "cell_type": "code",
   "execution_count": 32,
   "id": "ea5245d2",
   "metadata": {},
   "outputs": [],
   "source": [
    "lot.append(100)"
   ]
  },
  {
   "cell_type": "code",
   "execution_count": 33,
   "id": "1b5b62db",
   "metadata": {},
   "outputs": [
    {
     "data": {
      "text/plain": [
       "[10, 40, 50, 100]"
      ]
     },
     "execution_count": 33,
     "metadata": {},
     "output_type": "execute_result"
    }
   ],
   "source": [
    "lot"
   ]
  },
  {
   "cell_type": "code",
   "execution_count": 34,
   "id": "42cbbd4a",
   "metadata": {},
   "outputs": [],
   "source": [
    "lot.extend([115, 140])"
   ]
  },
  {
   "cell_type": "code",
   "execution_count": 35,
   "id": "34f139fb",
   "metadata": {},
   "outputs": [
    {
     "data": {
      "text/plain": [
       "[10, 40, 50, 100, 115, 140]"
      ]
     },
     "execution_count": 35,
     "metadata": {},
     "output_type": "execute_result"
    }
   ],
   "source": [
    "lot"
   ]
  },
  {
   "cell_type": "code",
   "execution_count": 36,
   "id": "e3491cc4",
   "metadata": {},
   "outputs": [
    {
     "name": "stdout",
     "output_type": "stream",
     "text": [
      "the fourth element of the Numbers is 115\n"
     ]
    }
   ],
   "source": [
    "print(f\"the fourth element of the Numbers is {lot[4]}\")"
   ]
  },
  {
   "cell_type": "code",
   "execution_count": 37,
   "id": "135118a1",
   "metadata": {},
   "outputs": [],
   "source": [
    "members = [15, 40, 50, 100, 115, 140]"
   ]
  },
  {
   "cell_type": "code",
   "execution_count": 63,
   "id": "263fb474",
   "metadata": {},
   "outputs": [
    {
     "data": {
      "text/plain": [
       "[140, 115, 100, 50, 40, 15]"
      ]
     },
     "execution_count": 63,
     "metadata": {},
     "output_type": "execute_result"
    }
   ],
   "source": [
    "members.sort(reverse=True)\n",
    "members"
   ]
  },
  {
   "cell_type": "code",
   "execution_count": 39,
   "id": "a1c45ce2",
   "metadata": {},
   "outputs": [
    {
     "data": {
      "text/plain": [
       "[100, 115]"
      ]
     },
     "execution_count": 39,
     "metadata": {},
     "output_type": "execute_result"
    }
   ],
   "source": [
    "members[3:5]"
   ]
  },
  {
   "cell_type": "code",
   "execution_count": 41,
   "id": "d400b428",
   "metadata": {},
   "outputs": [
    {
     "data": {
      "text/plain": [
       "[15, 40, 50, 100]"
      ]
     },
     "execution_count": 41,
     "metadata": {},
     "output_type": "execute_result"
    }
   ],
   "source": [
    "members[:4]"
   ]
  },
  {
   "cell_type": "code",
   "execution_count": 42,
   "id": "8abdac83",
   "metadata": {},
   "outputs": [
    {
     "data": {
      "text/plain": [
       "[15, 40, 50]"
      ]
     },
     "execution_count": 42,
     "metadata": {},
     "output_type": "execute_result"
    }
   ],
   "source": [
    "members[0:3]"
   ]
  },
  {
   "cell_type": "code",
   "execution_count": 46,
   "id": "c6dac8e5",
   "metadata": {},
   "outputs": [
    {
     "data": {
      "text/plain": [
       "[50, 100, 115, 140]"
      ]
     },
     "execution_count": 46,
     "metadata": {},
     "output_type": "execute_result"
    }
   ],
   "source": [
    "members[-4:]"
   ]
  },
  {
   "cell_type": "code",
   "execution_count": 47,
   "id": "e254c22e",
   "metadata": {},
   "outputs": [
    {
     "data": {
      "text/plain": [
       "0"
      ]
     },
     "execution_count": 47,
     "metadata": {},
     "output_type": "execute_result"
    }
   ],
   "source": [
    "members.index(15)"
   ]
  },
  {
   "cell_type": "code",
   "execution_count": 48,
   "id": "e7d29c0d",
   "metadata": {},
   "outputs": [],
   "source": [
    "Two_Number = [1, 2]"
   ]
  },
  {
   "cell_type": "code",
   "execution_count": 53,
   "id": "6f2bbe7b",
   "metadata": {},
   "outputs": [],
   "source": [
    "All_Numbers = [Two_Number , members]"
   ]
  },
  {
   "cell_type": "code",
   "execution_count": 52,
   "id": "4f17f91c",
   "metadata": {},
   "outputs": [
    {
     "data": {
      "text/plain": [
       "[[1, 2, 15, 40, 50, 100, 115, 140]]"
      ]
     },
     "execution_count": 52,
     "metadata": {},
     "output_type": "execute_result"
    }
   ],
   "source": [
    "All_Numbers"
   ]
  },
  {
   "cell_type": "code",
   "execution_count": 56,
   "id": "ee338186",
   "metadata": {},
   "outputs": [
    {
     "name": "stdout",
     "output_type": "stream",
     "text": [
      "None\n"
     ]
    }
   ],
   "source": [
    "print(All_Numbers.sort())"
   ]
  },
  {
   "cell_type": "code",
   "execution_count": 64,
   "id": "5c03ba7d",
   "metadata": {},
   "outputs": [],
   "source": [
    "Cars = (\"BMW\", \"Dodge\", \"Ford\")"
   ]
  },
  {
   "cell_type": "code",
   "execution_count": 65,
   "id": "0498d6d3",
   "metadata": {},
   "outputs": [
    {
     "data": {
      "text/plain": [
       "'Dodge'"
      ]
     },
     "execution_count": 65,
     "metadata": {},
     "output_type": "execute_result"
    }
   ],
   "source": [
    "Cars[1]"
   ]
  },
  {
   "cell_type": "code",
   "execution_count": 69,
   "id": "7ec78e8e",
   "metadata": {},
   "outputs": [],
   "source": [
    "name, age = 'Peter,24'.split(',')"
   ]
  },
  {
   "cell_type": "code",
   "execution_count": 70,
   "id": "7881e5be",
   "metadata": {},
   "outputs": [
    {
     "name": "stdout",
     "output_type": "stream",
     "text": [
      "Peter\n",
      "24\n"
     ]
    }
   ],
   "source": [
    "print(name)\n",
    "print(age)"
   ]
  },
  {
   "cell_type": "code",
   "execution_count": 71,
   "id": "54b5f94a",
   "metadata": {},
   "outputs": [],
   "source": [
    "def rectangle_info(length, width):\n",
    "    perimeter = length * 2 + width * 2\n",
    "    area = length * width\n",
    "    return print( f\" the perimeter is {perimeter}, and the area is {area}   \")\n"
   ]
  },
  {
   "cell_type": "code",
   "execution_count": 72,
   "id": "81d708a8",
   "metadata": {},
   "outputs": [
    {
     "name": "stdout",
     "output_type": "stream",
     "text": [
      " the perimeter is 38, and the area is 84   \n"
     ]
    }
   ],
   "source": [
    "rectangle_info(12,7)"
   ]
  },
  {
   "cell_type": "code",
   "execution_count": 73,
   "id": "a9ed09c8",
   "metadata": {},
   "outputs": [
    {
     "name": "stdout",
     "output_type": "stream",
     "text": [
      " the perimeter is 24, and the area is 20   \n"
     ]
    }
   ],
   "source": [
    "rectangle_info(10, 2)"
   ]
  },
  {
   "cell_type": "code",
   "execution_count": 74,
   "id": "bffb4d2f",
   "metadata": {},
   "outputs": [],
   "source": [
    "Menu = {'meal_1':'Spaghetti', 'meal_2':'Fries', 'meal_3':'Hamburger', 'meal_4':'Lasagna'}"
   ]
  },
  {
   "cell_type": "code",
   "execution_count": 76,
   "id": "6ce51946",
   "metadata": {},
   "outputs": [
    {
     "data": {
      "text/plain": [
       "'Fries'"
      ]
     },
     "execution_count": 76,
     "metadata": {},
     "output_type": "execute_result"
    }
   ],
   "source": [
    "Menu['meal_2']"
   ]
  },
  {
   "cell_type": "code",
   "execution_count": 77,
   "id": "6b516845",
   "metadata": {},
   "outputs": [],
   "source": [
    "Menu['meal_5']= 'soup'"
   ]
  },
  {
   "cell_type": "code",
   "execution_count": 78,
   "id": "4b822907",
   "metadata": {},
   "outputs": [
    {
     "data": {
      "text/plain": [
       "{'meal_1': 'Spaghetti',\n",
       " 'meal_2': 'Fries',\n",
       " 'meal_3': 'Hamburger',\n",
       " 'meal_4': 'Lasagna',\n",
       " 'meal_5': 'soup'}"
      ]
     },
     "execution_count": 78,
     "metadata": {},
     "output_type": "execute_result"
    }
   ],
   "source": [
    "Menu"
   ]
  },
  {
   "cell_type": "code",
   "execution_count": 79,
   "id": "d41803f3",
   "metadata": {},
   "outputs": [],
   "source": [
    "Menu['meal_3']= 'Cheeseburger'"
   ]
  },
  {
   "cell_type": "code",
   "execution_count": 80,
   "id": "3630fd06",
   "metadata": {},
   "outputs": [
    {
     "data": {
      "text/plain": [
       "{'meal_1': 'Spaghetti',\n",
       " 'meal_2': 'Fries',\n",
       " 'meal_3': 'Cheeseburger',\n",
       " 'meal_4': 'Lasagna',\n",
       " 'meal_5': 'soup'}"
      ]
     },
     "execution_count": 80,
     "metadata": {},
     "output_type": "execute_result"
    }
   ],
   "source": [
    "Menu"
   ]
  },
  {
   "cell_type": "code",
   "execution_count": 81,
   "id": "ecb2c0a9",
   "metadata": {},
   "outputs": [],
   "source": [
    "Dessert = ['Pancakes', 'Ice-cream', 'Tiramisu']"
   ]
  },
  {
   "cell_type": "code",
   "execution_count": 82,
   "id": "48f8dca0",
   "metadata": {},
   "outputs": [],
   "source": [
    "Menu['meal_6'] = Dessert"
   ]
  },
  {
   "cell_type": "code",
   "execution_count": 83,
   "id": "502d5255",
   "metadata": {},
   "outputs": [
    {
     "data": {
      "text/plain": [
       "{'meal_1': 'Spaghetti',\n",
       " 'meal_2': 'Fries',\n",
       " 'meal_3': 'Cheeseburger',\n",
       " 'meal_4': 'Lasagna',\n",
       " 'meal_5': 'soup',\n",
       " 'meal_6': ['Pancakes', 'Ice-cream', 'Tiramisu']}"
      ]
     },
     "execution_count": 83,
     "metadata": {},
     "output_type": "execute_result"
    }
   ],
   "source": [
    "Menu"
   ]
  },
  {
   "cell_type": "code",
   "execution_count": 84,
   "id": "32e61c71",
   "metadata": {},
   "outputs": [],
   "source": [
    "Price_list ={}"
   ]
  },
  {
   "cell_type": "code",
   "execution_count": 85,
   "id": "4ff371fa",
   "metadata": {},
   "outputs": [],
   "source": [
    "Price_list[Menu['meal_1']] = 10\n",
    "Price_list[Menu['meal_2']] = 5\n",
    "Price_list[Menu['meal_3']] = 8\n",
    "Price_list[Menu['meal_4']] = 12\n",
    "Price_list[Menu['meal_5']] = 5"
   ]
  },
  {
   "cell_type": "code",
   "execution_count": 86,
   "id": "c7216937",
   "metadata": {},
   "outputs": [
    {
     "data": {
      "text/plain": [
       "{'Spaghetti': 10, 'Fries': 5, 'Cheeseburger': 8, 'Lasagna': 12, 'soup': 5}"
      ]
     },
     "execution_count": 86,
     "metadata": {},
     "output_type": "execute_result"
    }
   ],
   "source": [
    "Price_list"
   ]
  },
  {
   "cell_type": "code",
   "execution_count": 87,
   "id": "f572fa00",
   "metadata": {},
   "outputs": [
    {
     "name": "stdout",
     "output_type": "stream",
     "text": [
      "10\n"
     ]
    }
   ],
   "source": [
    "print(Price_list.get('Spaghetti'))"
   ]
  },
  {
   "cell_type": "code",
   "execution_count": 88,
   "id": "46f1024e",
   "metadata": {},
   "outputs": [],
   "source": [
    "even = [0,2,4,6,8,10,12,14,16,18,20]"
   ]
  },
  {
   "cell_type": "code",
   "execution_count": 90,
   "id": "593fa1e0",
   "metadata": {},
   "outputs": [
    {
     "name": "stdout",
     "output_type": "stream",
     "text": [
      "0 2 4 6 8 10 12 14 16 18 20 "
     ]
    }
   ],
   "source": [
    "for n in even:\n",
    "    print(n, end= \" \")"
   ]
  },
  {
   "cell_type": "code",
   "execution_count": 91,
   "id": "9b9129c9",
   "metadata": {},
   "outputs": [],
   "source": [
    "digits = [0,1,2,3,4,5,6,7,8,9]"
   ]
  },
  {
   "cell_type": "code",
   "execution_count": 92,
   "id": "db41602a",
   "metadata": {},
   "outputs": [
    {
     "name": "stdout",
     "output_type": "stream",
     "text": [
      "0\n",
      "1\n",
      "2\n",
      "3\n",
      "4\n",
      "5\n",
      "6\n",
      "7\n",
      "8\n",
      "9\n"
     ]
    }
   ],
   "source": [
    "for number in digits:\n",
    "    print(number)"
   ]
  },
  {
   "cell_type": "code",
   "execution_count": null,
   "id": "2c96076e",
   "metadata": {},
   "outputs": [
    {
     "name": "stdout",
     "output_type": "stream",
     "text": [
      "0 2 4 6 8 10 12 14 16 18 20 "
     ]
    }
   ],
   "source": [
    "p = 0\n",
    "while p <= 20:\n",
    "    print(p, end= \" \")\n",
    "    p += 2"
   ]
  },
  {
   "cell_type": "code",
   "execution_count": 94,
   "id": "168b8af3",
   "metadata": {},
   "outputs": [
    {
     "name": "stdout",
     "output_type": "stream",
     "text": [
      "0 3 6 9 12 15 18 21 24 27 30 "
     ]
    }
   ],
   "source": [
    "b = 0 \n",
    "while b <= 30:\n",
    "    print(b, end= \" \" )\n",
    "    b += 3\n",
    "    "
   ]
  },
  {
   "cell_type": "code",
   "execution_count": null,
   "id": "06638642",
   "metadata": {},
   "outputs": [],
   "source": []
  }
 ],
 "metadata": {
  "kernelspec": {
   "display_name": "base",
   "language": "python",
   "name": "python3"
  },
  "language_info": {
   "codemirror_mode": {
    "name": "ipython",
    "version": 3
   },
   "file_extension": ".py",
   "mimetype": "text/x-python",
   "name": "python",
   "nbconvert_exporter": "python",
   "pygments_lexer": "ipython3",
   "version": "3.9.13"
  }
 },
 "nbformat": 4,
 "nbformat_minor": 5
}
